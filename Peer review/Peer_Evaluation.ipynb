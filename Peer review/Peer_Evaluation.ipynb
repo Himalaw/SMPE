{
 "cells": [
  {
   "cell_type": "markdown",
   "id": "3a52c4ee",
   "metadata": {},
   "source": [
    "## Sujet 6 : Autour du Paradoxe de Simpson"
   ]
  },
  {
   "cell_type": "markdown",
   "id": "5e461271",
   "metadata": {},
   "source": [
    "**Objectifs :**\n",
    "\n",
    "* Représentez dans un tableau le nombre total de femmes vivantes et décédées sur la période en fonction de leur habitude de tabagisme. Calculez dans chaque groupe (fumeuses / non fumeuses) le taux de mortalité (le rapport entre le nombre de femmes décédées dans un groupe et le nombre total de femmes dans ce groupe). Vous pourrez proposer une représentation graphique de ces données et calculer des intervalles de confiance si vous le souhaitez. En quoi ce résultat est-il surprenant ? <br><br>\n",
    "\n",
    "* Reprenez la question 1 (effectifs et taux de mortalité) en rajoutant une nouvelle catégorie liée à la classe d'âge. On considérera par exemple les classes suivantes : 18-34 ans, 34-54 ans, 55-64 ans, plus de 65 ans. En quoi ce résultat est-il surprenant ? Arrivez-vous à expliquer ce paradoxe ? De même, vous pourrez proposer une représentation graphique de ces données pour étayer vos explications. <br><br>\n",
    "\n",
    "* Afin d'éviter un biais induit par des regroupements en tranches d'âges arbitraires et non régulières, il est envisageable d'essayer de réaliser une régression logistique. Si on introduit une variable Death valant 1 ou 0 pour indiquer si l'individu est décédé durant la période de 20 ans, on peut étudier le modèle Death ~ Age pour étudier la probabilité de décès en fonction de l'âge selon que l'on considère le groupe des fumeuses ou des non fumeuses. Ces régressions vous permettent-elles de conclure sur la nocivité du tabagisme ? Vous pourrez proposer une représentation graphique de ces régressions (en n'omettant pas les régions de confiance).\n"
   ]
  },
  {
   "cell_type": "markdown",
   "id": "567a6d92",
   "metadata": {},
   "source": [
    "## Lecture des données"
   ]
  },
  {
   "cell_type": "code",
   "execution_count": 1,
   "id": "f8b15339",
   "metadata": {},
   "outputs": [],
   "source": [
    "import numpy as np\n",
    "import pandas as pd\n",
    "import matplotlib.pyplot as plt\n",
    "%matplotlib inline\n",
    "from sklearn.linear_model import LogisticRegression\n",
    "import statsmodels.api as sm\n",
    "import seaborn as sea"
   ]
  },
  {
   "cell_type": "code",
   "execution_count": 2,
   "id": "e19c252c",
   "metadata": {},
   "outputs": [
    {
     "data": {
      "text/html": [
       "<div>\n",
       "<style scoped>\n",
       "    .dataframe tbody tr th:only-of-type {\n",
       "        vertical-align: middle;\n",
       "    }\n",
       "\n",
       "    .dataframe tbody tr th {\n",
       "        vertical-align: top;\n",
       "    }\n",
       "\n",
       "    .dataframe thead th {\n",
       "        text-align: right;\n",
       "    }\n",
       "</style>\n",
       "<table border=\"1\" class=\"dataframe\">\n",
       "  <thead>\n",
       "    <tr style=\"text-align: right;\">\n",
       "      <th></th>\n",
       "      <th>Smoker</th>\n",
       "      <th>Status</th>\n",
       "      <th>Age</th>\n",
       "    </tr>\n",
       "  </thead>\n",
       "  <tbody>\n",
       "    <tr>\n",
       "      <th>0</th>\n",
       "      <td>Yes</td>\n",
       "      <td>Alive</td>\n",
       "      <td>21.0</td>\n",
       "    </tr>\n",
       "    <tr>\n",
       "      <th>1</th>\n",
       "      <td>Yes</td>\n",
       "      <td>Alive</td>\n",
       "      <td>19.3</td>\n",
       "    </tr>\n",
       "    <tr>\n",
       "      <th>2</th>\n",
       "      <td>No</td>\n",
       "      <td>Dead</td>\n",
       "      <td>57.5</td>\n",
       "    </tr>\n",
       "    <tr>\n",
       "      <th>3</th>\n",
       "      <td>No</td>\n",
       "      <td>Alive</td>\n",
       "      <td>47.1</td>\n",
       "    </tr>\n",
       "    <tr>\n",
       "      <th>4</th>\n",
       "      <td>Yes</td>\n",
       "      <td>Alive</td>\n",
       "      <td>81.4</td>\n",
       "    </tr>\n",
       "  </tbody>\n",
       "</table>\n",
       "</div>"
      ],
      "text/plain": [
       "  Smoker Status   Age\n",
       "0    Yes  Alive  21.0\n",
       "1    Yes  Alive  19.3\n",
       "2     No   Dead  57.5\n",
       "3     No  Alive  47.1\n",
       "4    Yes  Alive  81.4"
      ]
     },
     "execution_count": 2,
     "metadata": {},
     "output_type": "execute_result"
    }
   ],
   "source": [
    "data = pd.read_csv('Paradox_Simpson.csv')\n",
    "data.head()"
   ]
  },
  {
   "cell_type": "code",
   "execution_count": 3,
   "id": "63d1dcc2",
   "metadata": {},
   "outputs": [
    {
     "name": "stdout",
     "output_type": "stream",
     "text": [
      "<class 'pandas.core.frame.DataFrame'>\n",
      "RangeIndex: 1314 entries, 0 to 1313\n",
      "Data columns (total 3 columns):\n",
      " #   Column  Non-Null Count  Dtype  \n",
      "---  ------  --------------  -----  \n",
      " 0   Smoker  1314 non-null   object \n",
      " 1   Status  1314 non-null   object \n",
      " 2   Age     1314 non-null   float64\n",
      "dtypes: float64(1), object(2)\n",
      "memory usage: 30.9+ KB\n"
     ]
    }
   ],
   "source": [
    "data.info()"
   ]
  },
  {
   "cell_type": "markdown",
   "id": "0117ed7e",
   "metadata": {},
   "source": [
    "On a un dataframe de 3 colonnes et 1314 lignes. Il contient les données sur 1314 femmes qu'on repertorie ici selon trois critères :\n",
    "\n",
    "* Colonne `Smoker` : Est-elle fumeuse? Yes/No\n",
    "* Colonne `Status` : Est-elle vivante ou décédée ? Alive/Dead\n",
    "* Colonne `Age` : Pour indiquer l'âge de la femme\n",
    "\n",
    "Notons du reste, que le dataframe ne contient **aucune valeur manquante.**"
   ]
  },
  {
   "cell_type": "markdown",
   "id": "ef39b575",
   "metadata": {},
   "source": [
    "## Analyse : "
   ]
  },
  {
   "cell_type": "markdown",
   "id": "b8158dd3",
   "metadata": {},
   "source": [
    "Dans un premier temps, le but est de construire un tableau qui recense le nombre total de femmes vivantes et decédées en fonction de leurs habitudes de tabagisme"
   ]
  },
  {
   "cell_type": "code",
   "execution_count": 4,
   "id": "c2bbf6cb",
   "metadata": {},
   "outputs": [
    {
     "data": {
      "text/html": [
       "<div>\n",
       "<style scoped>\n",
       "    .dataframe tbody tr th:only-of-type {\n",
       "        vertical-align: middle;\n",
       "    }\n",
       "\n",
       "    .dataframe tbody tr th {\n",
       "        vertical-align: top;\n",
       "    }\n",
       "\n",
       "    .dataframe thead th {\n",
       "        text-align: right;\n",
       "    }\n",
       "</style>\n",
       "<table border=\"1\" class=\"dataframe\">\n",
       "  <thead>\n",
       "    <tr style=\"text-align: right;\">\n",
       "      <th></th>\n",
       "      <th>Smoker</th>\n",
       "      <th>Status</th>\n",
       "      <th>Count</th>\n",
       "    </tr>\n",
       "  </thead>\n",
       "  <tbody>\n",
       "    <tr>\n",
       "      <th>0</th>\n",
       "      <td>No</td>\n",
       "      <td>Alive</td>\n",
       "      <td>502</td>\n",
       "    </tr>\n",
       "    <tr>\n",
       "      <th>1</th>\n",
       "      <td>No</td>\n",
       "      <td>Dead</td>\n",
       "      <td>230</td>\n",
       "    </tr>\n",
       "    <tr>\n",
       "      <th>2</th>\n",
       "      <td>Yes</td>\n",
       "      <td>Alive</td>\n",
       "      <td>443</td>\n",
       "    </tr>\n",
       "    <tr>\n",
       "      <th>3</th>\n",
       "      <td>Yes</td>\n",
       "      <td>Dead</td>\n",
       "      <td>139</td>\n",
       "    </tr>\n",
       "  </tbody>\n",
       "</table>\n",
       "</div>"
      ],
      "text/plain": [
       "  Smoker Status  Count\n",
       "0     No  Alive    502\n",
       "1     No   Dead    230\n",
       "2    Yes  Alive    443\n",
       "3    Yes   Dead    139"
      ]
     },
     "execution_count": 4,
     "metadata": {},
     "output_type": "execute_result"
    }
   ],
   "source": [
    "count = data.groupby(['Smoker', 'Status']).size().reset_index(name=\"Count\")\n",
    "count"
   ]
  },
  {
   "cell_type": "markdown",
   "id": "a4d875ac",
   "metadata": {},
   "source": [
    "On s'interesse alors au taux de mortalité de chaque groupe , c'est-à-dire le rapport entre le nombre de femmes décédées dans un groupe et le nombre total de femmes dans ce groupe"
   ]
  },
  {
   "cell_type": "code",
   "execution_count": 5,
   "id": "9e16e06c",
   "metadata": {},
   "outputs": [
    {
     "data": {
      "image/png": "[encoded data removed]",
      "text/plain": [
       "<Figure size 720x432 with 1 Axes>"
      ]
     },
     "metadata": {
      "needs_background": "light"
     },
     "output_type": "display_data"
    }
   ],
   "source": [
    "count = np.array(data.groupby(['Smoker', 'Status']).count())\n",
    "count = np.reshape(count, (2, 2))\n",
    "annots = np.array([f\"{v}\\n{v/len(data):.2%}\" for v in count.flatten()]).reshape(2,2)\n",
    "\n",
    "plt.figure(figsize=(10,6))\n",
    "sea.heatmap(count, annot=annots, fmt=\"\", cmap='twilight_shifted', cbar=False, square=True,\n",
    "           xticklabels=['Alive', 'Dead'], yticklabels=['No', 'Yes'], annot_kws={\"fontsize\": 30})\n",
    "plt.xlabel(\"Status\")\n",
    "plt.ylabel(\"Smoker\")\n",
    "plt.title(\"Répartition des femmes selon leur activité tabagique et leur statut : décédée/vivante\")\n",
    "plt.show()"
   ]
  },
  {
   "cell_type": "code",
   "execution_count": 6,
   "id": "38fc742a",
   "metadata": {},
   "outputs": [
    {
     "name": "stdout",
     "output_type": "stream",
     "text": [
      "Mortality rate for smokers:\t23.88% ± 3.46%\n",
      "Mortality rate for non smokers:\t31.42% ± 3.36%\n"
     ]
    }
   ],
   "source": [
    " z = 1.96\n",
    "\n",
    "num_smokers = sum(data['Smoker'] == \"Yes\")\n",
    "num_dead_smokers = sum(np.logical_and(data['Smoker'] == \"Yes\", data['Status'] == \"Dead\"))\n",
    "rate_smokers = num_dead_smokers / num_smokers\n",
    "ci_smokers = z * (rate_smokers * (1 - rate_smokers) / num_smokers) ** 0.5\n",
    "print(f\"Mortality rate for smokers:\\t{rate_smokers:.2%} \" + u\"\\u00B1\" + f\" {ci_smokers:.2%}\")\n",
    "\n",
    "num_non_smokers = len(data) - num_smokers\n",
    "num_dead_non_smokers = sum(np.logical_and(data['Smoker'] == \"No\", data['Status'] == \"Dead\"))\n",
    "rate_non_smokers = num_dead_non_smokers / num_non_smokers\n",
    "ci_non_smokers = z * (rate_non_smokers * (1 - rate_non_smokers) / num_non_smokers) ** 0.5\n",
    "print(f\"Mortality rate for non smokers:\\t{rate_non_smokers:.2%} \" + u\"\\u00B1\" + f\" {ci_non_smokers:.2%}\")"
   ]
  },
  {
   "cell_type": "markdown",
   "id": "3a0fb9b9",
   "metadata": {},
   "source": [
    "On constate qu'il y a plus de décès de femmes non fumeuses que de femmes fumeuses, dans l'absolu comme en proportion. Cependant, impossible d'établir un lien de causalité ou une quelconque conclusion à ce stade de l'étude car nous n'avons pas une information importante : l'âge\n",
    "\n",
    "---\n",
    "\n",
    "Incluons l'âge sous forme de quatre classes : 18-34 ans, 34-54 ans, 55-64 ans, plus de 65 ans."
   ]
  },
  {
   "cell_type": "code",
   "execution_count": 7,
   "id": "4e61345e",
   "metadata": {},
   "outputs": [
    {
     "name": "stdout",
     "output_type": "stream",
     "text": [
      "0\n"
     ]
    }
   ],
   "source": [
    "#On s'assure qu'on ne va exclure aucune femme de notre analyse\n",
    "for line in data['Age']:\n",
    "    bizarre = 0\n",
    "    if line < 18:\n",
    "        bizarre +=1\n",
    "print(bizarre)"
   ]
  },
  {
   "cell_type": "code",
   "execution_count": 8,
   "id": "03d81cff",
   "metadata": {},
   "outputs": [
    {
     "data": {
      "text/html": [
       "<div>\n",
       "<style scoped>\n",
       "    .dataframe tbody tr th:only-of-type {\n",
       "        vertical-align: middle;\n",
       "    }\n",
       "\n",
       "    .dataframe tbody tr th {\n",
       "        vertical-align: top;\n",
       "    }\n",
       "\n",
       "    .dataframe thead th {\n",
       "        text-align: right;\n",
       "    }\n",
       "</style>\n",
       "<table border=\"1\" class=\"dataframe\">\n",
       "  <thead>\n",
       "    <tr style=\"text-align: right;\">\n",
       "      <th></th>\n",
       "      <th>Smoker</th>\n",
       "      <th>Status</th>\n",
       "      <th>Age</th>\n",
       "      <th>Classe</th>\n",
       "    </tr>\n",
       "  </thead>\n",
       "  <tbody>\n",
       "    <tr>\n",
       "      <th>0</th>\n",
       "      <td>Yes</td>\n",
       "      <td>Alive</td>\n",
       "      <td>21.0</td>\n",
       "      <td>18-34 ans</td>\n",
       "    </tr>\n",
       "    <tr>\n",
       "      <th>1</th>\n",
       "      <td>Yes</td>\n",
       "      <td>Alive</td>\n",
       "      <td>19.3</td>\n",
       "      <td>18-34 ans</td>\n",
       "    </tr>\n",
       "    <tr>\n",
       "      <th>2</th>\n",
       "      <td>No</td>\n",
       "      <td>Dead</td>\n",
       "      <td>57.5</td>\n",
       "      <td>55-64 ans</td>\n",
       "    </tr>\n",
       "    <tr>\n",
       "      <th>3</th>\n",
       "      <td>No</td>\n",
       "      <td>Alive</td>\n",
       "      <td>47.1</td>\n",
       "      <td>35-54 ans</td>\n",
       "    </tr>\n",
       "    <tr>\n",
       "      <th>4</th>\n",
       "      <td>Yes</td>\n",
       "      <td>Alive</td>\n",
       "      <td>81.4</td>\n",
       "      <td>+65 ans</td>\n",
       "    </tr>\n",
       "  </tbody>\n",
       "</table>\n",
       "</div>"
      ],
      "text/plain": [
       "  Smoker Status   Age     Classe\n",
       "0    Yes  Alive  21.0  18-34 ans\n",
       "1    Yes  Alive  19.3  18-34 ans\n",
       "2     No   Dead  57.5  55-64 ans\n",
       "3     No  Alive  47.1  35-54 ans\n",
       "4    Yes  Alive  81.4    +65 ans"
      ]
     },
     "execution_count": 8,
     "metadata": {},
     "output_type": "execute_result"
    }
   ],
   "source": [
    " def classe_age(age):\n",
    "    if age < 35:\n",
    "        return \"18-34 ans\"\n",
    "    elif age < 55:\n",
    "        return \"35-54 ans\"\n",
    "    elif age < 65:\n",
    "        return \"55-64 ans\"\n",
    "    else:\n",
    "        return \"+65 ans\"\n",
    "\n",
    "data['Classe'] = data['Age'].apply(classe_age)\n",
    "data.head()"
   ]
  },
  {
   "cell_type": "markdown",
   "id": "b42f31c3",
   "metadata": {},
   "source": [
    "Reprenons maintenant notre première analyse en incluant l'âge cette fois-ci"
   ]
  },
  {
   "cell_type": "code",
   "execution_count": 9,
   "id": "dee5c69b",
   "metadata": {},
   "outputs": [
    {
     "data": {
      "image/png": "[encoded data removed]",
      "text/plain": [
       "<Figure size 720x432 with 1 Axes>"
      ]
     },
     "metadata": {
      "needs_background": "light"
     },
     "output_type": "display_data"
    }
   ],
   "source": [
    " _, ax = plt.subplots(figsize=(10, 6))\n",
    "data.pivot_table(index=['Classe'], columns=['Smoker', 'Status'], aggfunc='size').plot(kind='bar', stacked=True, ax=ax)\n",
    "ax.set_title(\"Répartition des femmes selon leur activité tabagique, leur âge et leur statut : décédée/vivante, \")\n",
    "ax.tick_params(axis=\"x\", rotation=0)\n",
    "plt.show()"
   ]
  },
  {
   "cell_type": "markdown",
   "id": "0e6fe1d9",
   "metadata": {},
   "source": [
    "En incluant l'âge dans notre analyse, on remarque que la majorité des femmes non fumeuses décédées ont plus de 65 ans. Pour les autres classes d'âges, les résultats sont assez compliqués à interpreter. On calcule alors le taux de mortalité pour chacune de nos classes. "
   ]
  },
  {
   "cell_type": "code",
   "execution_count": 10,
   "id": "8e863dda",
   "metadata": {},
   "outputs": [
    {
     "name": "stdout",
     "output_type": "stream",
     "text": [
      "Classe: +65 ans\n",
      "\tMortality rate for smokers:\t85.71% ± 9.80%\n",
      "\tMortality rate for non smokers:\t85.49% ± 4.97%\n",
      "\n",
      "Classe: 18-34 ans\n",
      "\tMortality rate for smokers:\t3.70% ± 2.69%\n",
      "\tMortality rate for non smokers:\t2.64% ± 2.09%\n",
      "\n",
      "Classe: 35-54 ans\n",
      "\tMortality rate for smokers:\t17.03% ± 4.87%\n",
      "\tMortality rate for non smokers:\t9.95% ± 4.24%\n",
      "\n",
      "Classe: 55-64 ans\n",
      "\tMortality rate for smokers:\t44.35% ± 9.08%\n",
      "\tMortality rate for non smokers:\t33.06% ± 8.38%\n",
      "\n"
     ]
    }
   ],
   "source": [
    "def ci_per_age(age_group):\n",
    "    pop = data[data['Classe'] == group]\n",
    "    print(f\"Classe: {group}\")\n",
    "    \n",
    "    num_smokers = sum(pop['Smoker'] == \"Yes\")\n",
    "    num_dead_smokers = sum(np.logical_and(pop['Smoker'] == \"Yes\", pop['Status'] == \"Dead\"))\n",
    "    rate_smokers = num_dead_smokers / num_smokers\n",
    "    ci_smokers = z * (rate_smokers * (1 - rate_smokers) / num_smokers) ** 0.5\n",
    "    print(f\"\\tMortality rate for smokers:\\t{rate_smokers:.2%} \" + u\"\\u00B1\" + f\" {ci_smokers:.2%}\")\n",
    "\n",
    "    num_non_smokers = len(pop) - num_smokers\n",
    "    num_dead_non_smokers = sum(np.logical_and(pop['Smoker'] == \"No\", pop['Status'] == \"Dead\"))\n",
    "    rate_non_smokers = num_dead_non_smokers / num_non_smokers\n",
    "    ci_non_smokers = z * (rate_non_smokers * (1 - rate_non_smokers) / num_non_smokers) ** 0.5\n",
    "    print(f\"\\tMortality rate for non smokers:\\t{rate_non_smokers:.2%} \" + u\"\\u00B1\" + f\" {ci_non_smokers:.2%}\")\n",
    "    \n",
    "for group in sorted(data['Classe'].unique()):\n",
    "    ci_per_age(group)\n",
    "    print()"
   ]
  },
  {
   "cell_type": "markdown",
   "id": "228ddb60",
   "metadata": {},
   "source": [
    "On constate maintenant que le taux de mortalité est bien plus elevé chez les femmes fumeuses que chez les non-fumeuses lorsqu'on s'interesse aux personnes ayant entre 35 et 65 ans. On remarque également que le taux de mortalité augmente lorsque l'âge augmente ce qui paraît assez cohérent. Les résultats obtenus durant la première analyse et ces derniers sont contradictoires. Le paradoxe est obtenu en ajoutant cette classe d'âge qui permet d'obtenir de nouvelles informations sur nos données, comme le fait que la majorité des femmes de plus de 65 ans interrogées sont non-fumeuses. "
   ]
  },
  {
   "cell_type": "markdown",
   "id": "7879f708",
   "metadata": {},
   "source": [
    "## Regression logistique : statsmodel"
   ]
  },
  {
   "cell_type": "markdown",
   "id": "2f14e828",
   "metadata": {},
   "source": [
    "Afin d'éviter un biais induit par des regroupements en tranches d'âges arbitraires et non régulières, on décide de réaliser une régression logistique. On introduit une variable Death valant 1 ou 0 pour indiquer si l'individu est décédé durant la période de 20 ans. On peut alors étudier le modèle Death ~ Age pour étudier la probabilité de décès en fonction de l'âge selon que l'on considère le groupe des fumeuses ou des non fumeuses"
   ]
  },
  {
   "cell_type": "code",
   "execution_count": 11,
   "id": "2176d9b3",
   "metadata": {},
   "outputs": [
    {
     "data": {
      "text/html": [
       "<div>\n",
       "<style scoped>\n",
       "    .dataframe tbody tr th:only-of-type {\n",
       "        vertical-align: middle;\n",
       "    }\n",
       "\n",
       "    .dataframe tbody tr th {\n",
       "        vertical-align: top;\n",
       "    }\n",
       "\n",
       "    .dataframe thead th {\n",
       "        text-align: right;\n",
       "    }\n",
       "</style>\n",
       "<table border=\"1\" class=\"dataframe\">\n",
       "  <thead>\n",
       "    <tr style=\"text-align: right;\">\n",
       "      <th></th>\n",
       "      <th>Smoker</th>\n",
       "      <th>Status</th>\n",
       "      <th>Age</th>\n",
       "      <th>Classe</th>\n",
       "      <th>Death</th>\n",
       "      <th>Intercept</th>\n",
       "    </tr>\n",
       "  </thead>\n",
       "  <tbody>\n",
       "    <tr>\n",
       "      <th>0</th>\n",
       "      <td>Yes</td>\n",
       "      <td>Alive</td>\n",
       "      <td>21.0</td>\n",
       "      <td>18-34 ans</td>\n",
       "      <td>0</td>\n",
       "      <td>1</td>\n",
       "    </tr>\n",
       "    <tr>\n",
       "      <th>1</th>\n",
       "      <td>Yes</td>\n",
       "      <td>Alive</td>\n",
       "      <td>19.3</td>\n",
       "      <td>18-34 ans</td>\n",
       "      <td>0</td>\n",
       "      <td>1</td>\n",
       "    </tr>\n",
       "    <tr>\n",
       "      <th>2</th>\n",
       "      <td>No</td>\n",
       "      <td>Dead</td>\n",
       "      <td>57.5</td>\n",
       "      <td>55-64 ans</td>\n",
       "      <td>1</td>\n",
       "      <td>1</td>\n",
       "    </tr>\n",
       "    <tr>\n",
       "      <th>3</th>\n",
       "      <td>No</td>\n",
       "      <td>Alive</td>\n",
       "      <td>47.1</td>\n",
       "      <td>35-54 ans</td>\n",
       "      <td>0</td>\n",
       "      <td>1</td>\n",
       "    </tr>\n",
       "    <tr>\n",
       "      <th>4</th>\n",
       "      <td>Yes</td>\n",
       "      <td>Alive</td>\n",
       "      <td>81.4</td>\n",
       "      <td>+65 ans</td>\n",
       "      <td>0</td>\n",
       "      <td>1</td>\n",
       "    </tr>\n",
       "  </tbody>\n",
       "</table>\n",
       "</div>"
      ],
      "text/plain": [
       "  Smoker Status   Age     Classe  Death  Intercept\n",
       "0    Yes  Alive  21.0  18-34 ans      0          1\n",
       "1    Yes  Alive  19.3  18-34 ans      0          1\n",
       "2     No   Dead  57.5  55-64 ans      1          1\n",
       "3     No  Alive  47.1  35-54 ans      0          1\n",
       "4    Yes  Alive  81.4    +65 ans      0          1"
      ]
     },
     "execution_count": 11,
     "metadata": {},
     "output_type": "execute_result"
    }
   ],
   "source": [
    "data['Death'] = np.where((data['Status']==\"Dead\"), 1, 0)\n",
    "data['Intercept'] = 1\n",
    "data.head()"
   ]
  },
  {
   "cell_type": "markdown",
   "id": "64a8d974",
   "metadata": {},
   "source": [
    "On peut maintenant diviser notre dataset en deux selon l'activité tabagique des femmes puis performer notre regression logistique"
   ]
  },
  {
   "cell_type": "code",
   "execution_count": 12,
   "id": "37b4e37e",
   "metadata": {},
   "outputs": [
    {
     "name": "stdout",
     "output_type": "stream",
     "text": [
      "Optimization terminated successfully.\n",
      "         Current function value: 0.412727\n",
      "         Iterations 7\n",
      "                           Logit Regression Results                           \n",
      "==============================================================================\n",
      "Dep. Variable:                  Death   No. Observations:                  582\n",
      "Model:                          Logit   Df Residuals:                      580\n",
      "Method:                           MLE   Df Model:                            1\n",
      "Date:                Sat, 16 Apr 2022   Pseudo R-squ.:                  0.2492\n",
      "Time:                        18:21:37   Log-Likelihood:                -240.21\n",
      "converged:                       True   LL-Null:                       -319.94\n",
      "Covariance Type:            nonrobust   LLR p-value:                 1.477e-36\n",
      "==============================================================================\n",
      "                 coef    std err          z      P>|z|      [0.025      0.975]\n",
      "------------------------------------------------------------------------------\n",
      "Intercept     -5.5081      0.466    -11.814      0.000      -6.422      -4.594\n",
      "Age            0.0890      0.009     10.203      0.000       0.072       0.106\n",
      "==============================================================================\n"
     ]
    }
   ],
   "source": [
    "non_smokers = data[data['Smoker'] == \"Yes\"]\n",
    "log_non_smokers = sm.Logit(non_smokers[['Death']],non_smokers[['Intercept','Age']]).fit()\n",
    "print(log_non_smokers.summary())"
   ]
  },
  {
   "cell_type": "code",
   "execution_count": 13,
   "id": "3577920a",
   "metadata": {},
   "outputs": [
    {
     "name": "stdout",
     "output_type": "stream",
     "text": [
      "Optimization terminated successfully.\n",
      "         Current function value: 0.354560\n",
      "         Iterations 7\n",
      "                           Logit Regression Results                           \n",
      "==============================================================================\n",
      "Dep. Variable:                  Death   No. Observations:                  582\n",
      "Model:                          Logit   Df Residuals:                      580\n",
      "Method:                           MLE   Df Model:                            1\n",
      "Date:                Sat, 16 Apr 2022   Pseudo R-squ.:                  0.2492\n",
      "Time:                        18:21:37   Log-Likelihood:                -240.21\n",
      "converged:                       True   LL-Null:                       -319.94\n",
      "Covariance Type:            nonrobust   LLR p-value:                 1.477e-36\n",
      "==============================================================================\n",
      "                 coef    std err          z      P>|z|      [0.025      0.975]\n",
      "------------------------------------------------------------------------------\n",
      "Intercept     -5.5081      0.466    -11.814      0.000      -6.422      -4.594\n",
      "Age            0.0890      0.009     10.203      0.000       0.072       0.106\n",
      "==============================================================================\n"
     ]
    }
   ],
   "source": [
    "smokers = data[data['Smoker'] == \"No\"]\n",
    "log_smokers = sm.Logit(smokers[['Death']], smokers[['Intercept','Age']]).fit()\n",
    "print(log_non_smokers.summary())"
   ]
  },
  {
   "cell_type": "code",
   "execution_count": 14,
   "id": "0c2a1640",
   "metadata": {},
   "outputs": [
    {
     "data": {
      "image/png": "[encoded data removed]",
      "text/plain": [
       "<Figure size 1080x720 with 1 Axes>"
      ]
     },
     "metadata": {
      "needs_background": "light"
     },
     "output_type": "display_data"
    }
   ],
   "source": [
    " def plot_pred_confidence_intervals(model, X, xlabel, label=None):\n",
    "    #https://stackoverflow.com/questions/47414842/confidence-interval-of-probability-prediction-from-logistic-regression-statsmode\n",
    "    preds = model.predict(X)\n",
    "    \n",
    "    cov = model.cov_params()\n",
    "    gradient = np.array((preds * (1 - preds) * X.T).T)\n",
    "    std_errors = np.array([np.sqrt(np.dot(np.dot(g, cov), g)) for g in gradient])\n",
    "    upper = np.maximum(0, np.minimum(1, preds + std_errors * z))\n",
    "    lower = np.maximum(0, np.minimum(1, preds - std_errors * z))\n",
    "    \n",
    "    plt.plot(X[xlabel], preds, label=label)\n",
    "    plt.fill_between(X[xlabel], lower, upper, alpha=0.3)\n",
    "    \n",
    "\n",
    "plt.figure(figsize=(15, 10))\n",
    "data_pred = pd.DataFrame({'Age': np.linspace(start=15, stop=100, num=100), 'Intercept': 1})\n",
    "\n",
    "plot_pred_confidence_intervals(log_smokers, data_pred[['Intercept', 'Age']], 'Age', label=\"Smokers\")\n",
    "plot_pred_confidence_intervals(log_non_smokers, data_pred[['Intercept', 'Age']], 'Age', label=\"Non-smokers\")\n",
    "\n",
    "plt.title(\"Estimated probability of death per age, according to smoking habits\")\n",
    "plt.xlabel(\"Age\")\n",
    "plt.ylabel(\"Probability\")\n",
    "plt.legend()\n",
    "plt.show()"
   ]
  },
  {
   "cell_type": "markdown",
   "id": "df4201f3",
   "metadata": {},
   "source": [
    "À partir du graphique précédent, nous pouvons conclure avec une bonne confiance que la probabilité de décès est plus faible pour les non-fumeurs jusqu'à l'âge de 45/50 ans. À partir de ce point, l'intervalle de confiance pour les non-fumeurs devient plus large et les probabilités prédites se croisent autour de l'âge de 70 ans. La probabilité de décès estimée devient plus élevée pour les non-fumeurs, mais les résultats sont difficiles à interpréter et il n'est pas possible de tirer une conclusion claire sur l'impact du tabagisme sur l'espérance de vie."
   ]
  }
 ],
 "metadata": {
  "kernelspec": {
   "display_name": "Python 3",
   "language": "python",
   "name": "python3"
  },
  "language_info": {
   "codemirror_mode": {
    "name": "ipython",
    "version": 3
   },
   "file_extension": ".py",
   "mimetype": "text/x-python",
   "name": "python",
   "nbconvert_exporter": "python",
   "pygments_lexer": "ipython3",
   "version": "3.8.8"
  }
 },
 "nbformat": 4,
 "nbformat_minor": 5
}
